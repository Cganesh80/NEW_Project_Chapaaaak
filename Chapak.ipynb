{
 "cells": [
  {
   "cell_type": "code",
   "execution_count": null,
   "id": "465f6a0e",
   "metadata": {},
   "outputs": [],
   "source": [
    "class game:\n",
    "    def __init__(self, no_players):\n",
    "        self.no_players = no_players\n",
    "        self.elements = {\n",
    "            \"Machali\" : 1,\n",
    "            \"Pani Main\": 2,\n",
    "            \"Chapak\": 3\n",
    "        }\n",
    "        self.stack = []\n",
    "        self.turn = 1\n",
    "        self.score = 0\n",
    "    \n",
    "    def set_elements(self, turn = 1):\n",
    "        for j in self.elements.keys():\n",
    "            for i in range(1, turn+1):\n",
    "                self.stack.append(j)\n",
    "    \n",
    "    def get_elements(self, turn = 1):\n",
    "        return self.stack\n",
    "            \n",
    "    def set_board(self):\n",
    "        self.set_elements(self.turn)\n",
    "        while(1):\n",
    "            for i in range(1, self.no_players+1):\n",
    "                choice = input(f\"Enter Choice player no {i}: \")\n",
    "                element = self.stack.pop(0)\n",
    "                if element != choice:\n",
    "                    self.kill_game(i)\n",
    "                    break\n",
    "                if len(self.stack) == 0:\n",
    "                    self.turn += 1\n",
    "                    self.set_elements(self.turn)\n",
    "            self.score += 1\n",
    "            \n",
    "    def kill_game(self, loser_number):\n",
    "        print(\"Game ender loser is \", loser_number, \" score is \", self.score)\n",
    "\n",
    "    def show_queue(self):\n",
    "        print(self.stack)"
   ]
  },
  {
   "cell_type": "code",
   "execution_count": 2,
   "id": "7b2a37c4",
   "metadata": {},
   "outputs": [],
   "source": [
    "g = game(3)    "
   ]
  },
  {
   "cell_type": "code",
   "execution_count": null,
   "id": "1b5dc035",
   "metadata": {},
   "outputs": [
    {
     "name": "stdout",
     "output_type": "stream",
     "text": [
      "Enter Choice player no 1: Machali\n",
      "Enter Choice player no 2: Pani Main\n",
      "Enter Choice player no 3: Chapak\n",
      "Enter Choice player no 1: Machali\n",
      "Enter Choice player no 2: Machali\n",
      "Enter Choice player no 3: Pani Main\n",
      "Enter Choice player no 1: Pani Main\n",
      "Enter Choice player no 2: Chapak\n",
      "Enter Choice player no 3: Chapak\n",
      "Enter Choice player no 1: Mac\n",
      "Game ender loser is  1  score is  3\n"
     ]
    }
   ],
   "source": [
    "g.set_board()"
   ]
  },
  {
   "cell_type": "code",
   "execution_count": null,
   "id": "01e6ea9a",
   "metadata": {},
   "outputs": [],
   "source": []
  }
 ],
 "metadata": {
  "kernelspec": {
   "display_name": "Python 3 (ipykernel)",
   "language": "python",
   "name": "python3"
  },
  "language_info": {
   "codemirror_mode": {
    "name": "ipython",
    "version": 3
   },
   "file_extension": ".py",
   "mimetype": "text/x-python",
   "name": "python",
   "nbconvert_exporter": "python",
   "pygments_lexer": "ipython3",
   "version": "3.10.9"
  }
 },
 "nbformat": 4,
 "nbformat_minor": 5
}
